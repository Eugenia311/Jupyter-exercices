{
 "cells": [
  {
   "cell_type": "markdown",
   "id": "a8532a7a-4b15-469f-b445-afcb8be989bc",
   "metadata": {},
   "source": [
    "# Data Science Tools and Ecosystem"
   ]
  },
  {
   "cell_type": "markdown",
   "id": "173ad1d3-a395-4bd1-a87a-fae4295e1429",
   "metadata": {},
   "source": [
    "In this notebook, Data Science Tools and Ecosystem are summarized."
   ]
  },
  {
   "cell_type": "markdown",
   "id": "0e961c25-5320-4c31-b115-32efee5525a2",
   "metadata": {},
   "source": [
    "**Objectives:**\n",
    "\n",
    "- List popular programming languages for Data Science.\n",
    "- Explain how to convert time units (e.g., minutes to hours).\n",
    "- Understand the basics of data analysis and machine learning.\n",
    "- Explore tools and libraries used in data Science (e.g., Pandas, NumPy, Matplotlib)."
   ]
  },
  {
   "cell_type": "markdown",
   "id": "42ddb062-f6f7-42df-ad19-57fb97b9fd49",
   "metadata": {},
   "source": [
    "Some of the popular languages that data Scientists use are:\n",
    "1. Python\n",
    "2. R\n",
    "3. SQL\n",
    "4. Julia\n",
    "5. scala"
   ]
  },
  {
   "cell_type": "markdown",
   "id": "05b1b4f3-b43c-4107-8a30-6b30543b17cc",
   "metadata": {},
   "source": [
    "Some of the commonly used libraries used by Data Scientists include:\n",
    "1. NumPy\n",
    "2. Pandas\n",
    "3. Matplotlib\n",
    "4. Tensroflow\n",
    "5. PySpark\n",
    "6. Scikit-learn"
   ]
  },
  {
   "cell_type": "markdown",
   "id": "bebdeeec-1da1-4e2d-8b34-55d5c469de35",
   "metadata": {},
   "source": [
    "| Data Science Tools |\n",
    "|--------------------|\n",
    "| Jupyter Notebook   |\n",
    "| RStudio            |\n",
    "| Apache Zepellin    |"
   ]
  },
  {
   "cell_type": "markdown",
   "id": "a4c79669-c6b5-40b3-bcbc-b34c69349c01",
   "metadata": {},
   "source": [
    "### Below are a few examples of evaluating arithmetic expressions in Python"
   ]
  },
  {
   "cell_type": "code",
   "execution_count": 7,
   "id": "76085e25-ecc6-4578-a8f8-624e2100557a",
   "metadata": {},
   "outputs": [
    {
     "data": {
      "text/plain": [
       "17"
      ]
     },
     "execution_count": 7,
     "metadata": {},
     "output_type": "execute_result"
    }
   ],
   "source": [
    "# This a simple arithmetic expression to multiply then add integers\n",
    "(3*4)+5"
   ]
  },
  {
   "cell_type": "code",
   "execution_count": 9,
   "id": "76bd53b1-7161-4ea7-8c37-085828652b7a",
   "metadata": {},
   "outputs": [
    {
     "name": "stdout",
     "output_type": "stream",
     "text": [
      "3.3333333333333335\n"
     ]
    }
   ],
   "source": [
    "# This will convert 200 minutes to hours by diving by 60\n",
    "minutes= 200\n",
    "hours= minutes/ 60\n",
    "print(hours)"
   ]
  },
  {
   "cell_type": "markdown",
   "id": "c3832750-e109-4a90-b2d0-844285c1f01d",
   "metadata": {},
   "source": [
    "## Author\n",
    "María Eugenia Lechuga Sánchez"
   ]
  },
  {
   "cell_type": "code",
   "execution_count": null,
   "id": "3d8de91b-9699-4b2b-b327-e72449375d04",
   "metadata": {},
   "outputs": [],
   "source": []
  }
 ],
 "metadata": {
  "kernelspec": {
   "display_name": "Python [conda env:base] *",
   "language": "python",
   "name": "conda-base-py"
  },
  "language_info": {
   "codemirror_mode": {
    "name": "ipython",
    "version": 3
   },
   "file_extension": ".py",
   "mimetype": "text/x-python",
   "name": "python",
   "nbconvert_exporter": "python",
   "pygments_lexer": "ipython3",
   "version": "3.12.7"
  }
 },
 "nbformat": 4,
 "nbformat_minor": 5
}
